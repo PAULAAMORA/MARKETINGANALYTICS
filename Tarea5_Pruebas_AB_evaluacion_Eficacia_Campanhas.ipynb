{
 "cells": [
  {
   "cell_type": "markdown",
   "id": "177c052a",
   "metadata": {},
   "source": [
    "# **Tarea 5: Pruebas A/B y Evaluación de Eficacia de Campañas**\n",
    "\n",
    "## 🎯 Objetivos\n",
    "Explorar la importancia de las pruebas A/B en marketing digital, aprender a interpretar métricas clave, realizar análisis estadísticos para evaluar la significancia de resultados y analizar casos de éxito en campañas de marketing basadas en pruebas A/B.\n"
   ]
  },
  {
   "cell_type": "markdown",
   "id": "8ffac998",
   "metadata": {},
   "source": [
    "\n",
    "## 🌟 **Parte 1: Fundamentos de Pruebas A/B**\n",
    "\n",
    "### **¿Qué son las pruebas A/B?**\n",
    "Las pruebas A/B son experimentos controlados que se utilizan para comparar dos variantes (A y B) de un elemento, como un sitio web, email o anuncio, con el objetivo de determinar cuál tiene un mejor desempeño basado en una métrica específica. Este enfoque es clave para tomar decisiones basadas en datos y mejorar continuamente cualquier estrategia digital. 📈\n",
    "\n",
    "### **Objetivos principales de las pruebas A/B:**\n",
    "1. 🔄 **Optimizar conversiones:** Mejorar la tasa de conversión en elementos digitales.\n",
    "\n",
    "       Ejemplo: Cambiar el texto de un botón de \"Comprar ahora\" a \"¡Obtén tu oferta exclusiva!\" y medir el impacto.\n",
    "   \n",
    "2. 😊 **Mejorar experiencia de usuario:** Probar diseños alternativos para incrementar la satisfacción.\n",
    "\n",
    "       Ejemplo: Cambiar el diseño de una landing page para facilitar la navegación.\n",
    "   \n",
    "3. 📊 **Validar decisiones de negocio basadas en datos:** Evitar decisiones subjetivas al implementar cambios.\n",
    "\n",
    "       Ejemplo: Probar dos estrategias de precio para un producto.\n"
   ]
  },
  {
   "cell_type": "markdown",
   "id": "d0110569",
   "metadata": {},
   "source": [
    "\n",
    "## 📐 **Parte 2: Cálculo y Evaluación de Métricas**\n",
    "\n",
    "### 🧮 Cálculo de métricas:\n",
    "\n",
    "📌 Escenario:\n",
    "\n",
    "Variante A: 5,000 visitantes 👥 | 600 conversiones ✅\n",
    "\n",
    "Variante B: 5,000 visitantes 👥 | 750 conversiones ✅\n",
    "\n",
    "1️⃣ **Cálculo de tasa de conversión:**\n",
    "- Tasa de conversión = (Conversiones / Visitantes) * 100\n",
    "\n",
    "2️⃣ **Incremento porcentual de conversión:**\n",
    "- Incremento (%)= ((Tasa B - Tasa A) / Tasa A) * 100\n"
   ]
  },
  {
   "cell_type": "code",
   "execution_count": 1,
   "id": "fa4b94f9",
   "metadata": {},
   "outputs": [
    {
     "data": {
      "text/plain": [
       "(12.0, 15.0, 25.0)"
      ]
     },
     "execution_count": 1,
     "metadata": {},
     "output_type": "execute_result"
    }
   ],
   "source": [
    "\n",
    "# Datos iniciales\n",
    "variant_a_visitors = 5000\n",
    "variant_a_conversions = 600\n",
    "\n",
    "variant_b_visitors = 5000\n",
    "variant_b_conversions = 750\n",
    "\n",
    "# Cálculo de tasas de conversión (%)\n",
    "rate_a = (variant_a_conversions / variant_a_visitors) * 100\n",
    "rate_b = (variant_b_conversions / variant_b_visitors) * 100\n",
    "\n",
    "# Cálculo del incremento porcentual entre variantes\n",
    "increment = ((rate_b - rate_a) / rate_a) * 100\n",
    "\n",
    "# Resultados finales\n",
    "rate_a, rate_b, increment\n"
   ]
  },
  {
   "cell_type": "markdown",
   "id": "5388a06d",
   "metadata": {},
   "source": [
    "✅ **Conclusión rápida:**\n",
    "\n",
    "- Variante A tuvo una tasa de conversión del 12%\n",
    "\n",
    "- Variante B alcanzó un 15%\n",
    "\n",
    "- Esto representa un incremento del 25% en la tasa de conversión al cambiar de A a B \n",
    "\n",
    "¡Una mejora clara y medible! 🚀📈"
   ]
  },
  {
   "cell_type": "markdown",
   "id": "b9faaee8",
   "metadata": {},
   "source": [
    "\n",
    "### 🧪 Análisis Estadístico: Prueba de Significancia para Conversiones A/B\n",
    "\n",
    "Cuando observamos una diferencia entre dos tasas de conversión, debemos comprobar si esa diferencia es estadísticamente significativa, es decir, si no ocurrió por azar. Para esto utilizamos una prueba Z de proporciones.\n"
   ]
  },
  {
   "cell_type": "code",
   "execution_count": 2,
   "id": "e38f5515",
   "metadata": {},
   "outputs": [
    {
     "data": {
      "text/plain": [
       "(-4.3895128130614705, 1.136048850105021e-05)"
      ]
     },
     "execution_count": 2,
     "metadata": {},
     "output_type": "execute_result"
    }
   ],
   "source": [
    "\n",
    "from statsmodels.stats.proportion import proportions_ztest\n",
    "\n",
    "# Datos de conversiones y muestras\n",
    "success = [variant_a_conversions, variant_b_conversions]\n",
    "nobs = [variant_a_visitors, variant_b_visitors]\n",
    "\n",
    "# Prueba Z de proporciones\n",
    "stat, p_value = proportions_ztest(success, nobs)\n",
    "\n",
    "# Resultados del test\n",
    "stat, p_value\n"
   ]
  },
  {
   "cell_type": "markdown",
   "id": "cd9dd856",
   "metadata": {},
   "source": [
    "### Interpretación de los resultados:\n",
    "\n",
    "- Estadístico Z: Un valor de Z tan extremo indica una diferencia clara entre las dos tasas.\n",
    "- Valor p: Dado que el valor p es menor a 0.05, rechazamos la hipótesis nula. Esto significa que la diferencia en tasas de conversión entre Variante A y B es estadísticamente significativa. 🎉\n",
    "\n",
    "### 🧠 Conclusión:\n",
    "El incremento observado en la tasa de conversión al usar la Variante B no es producto del azar, sino que representa una mejora real y medible. ¡Implementar la Variante B puede traer resultados positivos sostenibles! 🚀📊💰"
   ]
  },
  {
   "cell_type": "markdown",
   "id": "62abc83a",
   "metadata": {},
   "source": [
    "\n",
    "## 🌟 **Parte 3: Análisis de Casos de Éxito**\n",
    "\n",
    "### 📌 Ejemplo real de impacto: Google y el poder de los colores\n",
    "\n",
    "Uno de los casos más icónicos de pruebas A/B proviene de Google, en sus primeros años de evolución. La empresa realizó múltiples pruebas A/B para determinar qué color de enlace generaba más clics en los resultados de búsqueda.\n",
    "\n",
    "Probaron diferentes tonalidades de azul para los hipervínculos, comparando métricas de interacción entre variantes.\n",
    "\n",
    "Una tonalidad específica generaba una tasa significativamente mayor de clics, lo que eventualmente se tradujo en millones de dólares adicionales en ingresos por publicidad. ¡Todo gracias a una prueba aparentemente simple!\n",
    "\n",
    "### 💭 Reflexión: Lecciones clave del caso Google\n",
    "\n",
    "**Lección 1: Decisiones basadas en datos, no en intuición.**\n",
    "\n",
    "Las pruebas A/B eliminan las suposiciones y permiten tomar decisiones respaldadas por evidencia real y medible.\n",
    "\n",
    "**Lección 2: Pequeños cambios → Grandes resultados.**\n",
    "\n",
    "A veces, un cambio tan simple como el color de un botón o enlace puede tener un impacto significativo en el comportamiento del usuario."
   ]
  },
  {
   "cell_type": "markdown",
   "id": "d78de45c",
   "metadata": {},
   "source": [
    "\n",
    "## 🛠️ **Parte 4: Propuesta Práctica**\n",
    "\n",
    "### Diseño de la prueba A/B:\n",
    "**Hipótesis:** Cambiar el diseño del botón de checkout aumentará las conversiones.\n",
    "\n",
    "**Diseño:**\n",
    "- Variante A: Botón actual (color azul, texto \"Pagar\").\n",
    "- Variante B: Botón propuesto (color verde, texto \"Completar compra\").\n",
    "\n",
    "**Métricas:** Tasa de conversión en el checkout (% de usuarios que completan la compra tras llegar a esa página).\n",
    "\n",
    "**Segmentación:** Usuarios que accedan a la página de checkout durante 2 semanas."
   ]
  },
  {
   "cell_type": "markdown",
   "id": "1afaf358",
   "metadata": {},
   "source": [
    "Puedes descargar la data con la herramienta de kaggle, como lo muestra el siguiente código:"
   ]
  },
  {
   "cell_type": "code",
   "execution_count": null,
   "id": "27053b6a",
   "metadata": {},
   "outputs": [],
   "source": [
    "\n",
    "# Descargar dataset (si aplica)\n",
    "!pip install kaggle --quiet\n",
    "\n",
    "# Colocar tu propia API Key de Kaggle para descargar un dataset relevante (ejemplo de análisis de e-commerce)\n",
    "!kaggle datasets download -d mkechinov/ecommerce-behavior-data-from-multi-category-store\n",
    "\n",
    "# Descomprimir y leer datos\n",
    "import zipfile\n",
    "import pandas as pd\n",
    "\n",
    "with zipfile.ZipFile(\"ecommerce-behavior-data-from-multi-category-store.zip\", \"r\") as zip_ref:\n",
    "    zip_ref.extractall()\n",
    "    "
   ]
  },
  {
   "cell_type": "markdown",
   "id": "a2f32914",
   "metadata": {},
   "source": [
    "O puedes decargar la data directamente de [Kaggle](https://www.kaggle.com/datasets/mkechinov/ecommerce-behavior-data-from-multi-category-store).\n",
    "\n",
    "Recuerda que la data **2019-Nov.csv**, debe estar en la misma carpeta que el notebook."
   ]
  },
  {
   "cell_type": "code",
   "execution_count": null,
   "id": "9137206a",
   "metadata": {},
   "outputs": [],
   "source": [
    "data = pd.read_csv(\"2019-Nov.csv\")\n",
    "data.head()"
   ]
  },
  {
   "cell_type": "markdown",
   "id": "f054ec44",
   "metadata": {},
   "source": [
    "# Preguntas\n",
    "Responde las siguientes preguntas reflexivas basadas en el caso planteado:\n",
    "\n",
    "1. ¿Cómo definirías una hipótesis sólida para una prueba A/B en un entorno de marketing digital?\n",
    "2. ¿Qué consideraciones tomarías para asegurarte de que el tamaño de la muestra sea estadísticamente significativo?\n",
    "3. ¿Cómo abordarías los resultados si las métricas clave entre las variantes A y B no muestran diferencias significativas?\n",
    "4. ¿Qué otros factores, además de las métricas cuantitativas, considerarías al analizar los resultados de una prueba A/B?\n",
    "5. ¿Cómo integrarías los hallazgos de una prueba A/B en la estrategia general de marketing digital de la empresa?"
   ]
  },
  {
   "cell_type": "markdown",
   "id": "b25f887d",
   "metadata": {},
   "source": [
    "# Requerimientos Entregables\n",
    "\n",
    "1. Un reporte en formato PDF que contenga:\n",
    "    * Respuestas organizadas por secciones.\n",
    "    * Capturas de pantalla o gráficos para apoyar los cálculos y análisis, si es necesario.\n",
    "2. Código fuente en Python en formato Jupyter Notebook (.ipynb).\n",
    "3. Gráficos relevantes (como curva ROC, importancia de características) exportados en alta calidad."
   ]
  },
  {
   "cell_type": "code",
   "execution_count": null,
   "id": "9880ffe7",
   "metadata": {},
   "outputs": [],
   "source": []
  }
 ],
 "metadata": {
  "kernelspec": {
   "display_name": "Python 3 (ipykernel)",
   "language": "python",
   "name": "python3"
  },
  "language_info": {
   "codemirror_mode": {
    "name": "ipython",
    "version": 3
   },
   "file_extension": ".py",
   "mimetype": "text/x-python",
   "name": "python",
   "nbconvert_exporter": "python",
   "pygments_lexer": "ipython3",
   "version": "3.11.5"
  }
 },
 "nbformat": 4,
 "nbformat_minor": 5
}
